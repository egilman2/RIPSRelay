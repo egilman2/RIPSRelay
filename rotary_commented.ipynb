{
  "nbformat": 4,
  "nbformat_minor": 0,
  "metadata": {
    "colab": {
      "provenance": [],
      "authorship_tag": "ABX9TyOt5+CMsi9Y7Kf7s+dEel2Q",
      "include_colab_link": true
    },
    "kernelspec": {
      "name": "python3",
      "display_name": "Python 3"
    },
    "language_info": {
      "name": "python"
    }
  },
  "cells": [
    {
      "cell_type": "markdown",
      "metadata": {
        "id": "view-in-github",
        "colab_type": "text"
      },
      "source": [
        "<a href=\"https://colab.research.google.com/github/egilman2/RIPSRelay/blob/main/rotary_commented.ipynb\" target=\"_parent\"><img src=\"https://colab.research.google.com/assets/colab-badge.svg\" alt=\"Open In Colab\"/></a>"
      ]
    },
    {
      "cell_type": "code",
      "execution_count": null,
      "metadata": {
        "id": "M9SIJRdtSLhU"
      },
      "outputs": [],
      "source": [
        "import torch\n",
        "\n",
        "class RotaryEmbedding(torch.nn.Module):\n",
        "\n",
        "    def __init__(self, dim, base=10000):\n",
        "        super().__init__()\n",
        "        inv_freq = 1. / (base ** (torch.arange(0, dim, 2).float() / dim)) # E.g if dim = 8: 1, 0.1, 0.01, 0.001, 0.0001\n",
        "        self.register_buffer('inv_freq', inv_freq) # We don't want our optimizer to update inv_freq, so we register them as buffers\n",
        "        self.seq_len_cached = 0\n",
        "        self.cos_cached = None\n",
        "        self.sin_cached = None\n",
        "\n",
        "    def forward(self, x, seq_dim=1):\n",
        "        seq_len = x.shape[seq_dim]\n",
        "        if seq_len != self.seq_len_cached:\n",
        "            #if seq_len > self.seq_len_cached:\n",
        "            self.seq_len_cached = seq_len\n",
        "            t = torch.arange(x.shape[seq_dim], device=x.device).type_as(self.inv_freq)\n",
        "            freqs = torch.einsum('i,j->ij', t, self.inv_freq)\n",
        "            emb = torch.cat((freqs, freqs), dim=-1).to(x.device)\n",
        "            self.cos_cached = emb.cos()[None,:, None, :]\n",
        "            self.sin_cached = emb.sin()[None,:, None, :]\n",
        "            #else:\n",
        "            #    cos_return = self.cos_cached[..., :seq_len]\n",
        "            #    sin_return = self.sin_cached[..., :seq_len]\n",
        "            #    return cos_return, sin_return\n",
        "\n",
        "        return self.cos_cached, self.sin_cached\n",
        "\n",
        "\n",
        "# rotary pos emb helpers:\n",
        "\n",
        "def rotate_half(x):\n",
        "    x1, x2 = x[..., :x.shape[-1] // 2], x[..., x.shape[-1] // 2:]\n",
        "    return torch.cat((-x2, x1), dim=x1.ndim - 1) # dim=-1 triggers a bug in earlier torch versions\n",
        "\n",
        "@torch.jit.script\n",
        "def apply_rotary_pos_emb(q, k, cos, sin):\n",
        "    return (q * cos) + (rotate_half(q) * sin), (k * cos) + (rotate_half(k) * sin)"
      ]
    }
  ]
}